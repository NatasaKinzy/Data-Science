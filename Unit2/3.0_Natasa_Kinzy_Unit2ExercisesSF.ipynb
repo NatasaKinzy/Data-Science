{
  "nbformat": 4,
  "nbformat_minor": 0,
  "metadata": {
    "colab": {
      "provenance": [],
      "include_colab_link": true
    },
    "kernelspec": {
      "name": "python3",
      "display_name": "Python 3"
    },
    "language_info": {
      "name": "python"
    }
  },
  "cells": [
    {
      "cell_type": "markdown",
      "metadata": {
        "id": "view-in-github",
        "colab_type": "text"
      },
      "source": [
        "<a href=\"https://colab.research.google.com/github/NatasaKinzy/Data-Science/blob/main/Unit2/3.0_Natasa_Kinzy_Unit2ExercisesSF.ipynb\" target=\"_parent\"><img src=\"https://colab.research.google.com/assets/colab-badge.svg\" alt=\"Open In Colab\"/></a>"
      ]
    },
    {
      "cell_type": "markdown",
      "source": [
        "#Unit 2 Exercises: Bayesian Building Blocks\n",
        "\n",
        "This first set of exercises focuses on conceptual understanding of the three parts of bayesian statistics we'll manipulate the most: the prior, likelihood, and posterior.\n",
        "\n",
        "These vocabulary words will help us categorize and explain all statistical models, even models that don't fit inside the standard bayesian framework."
      ],
      "metadata": {
        "id": "0GANUQSIhV2t"
      }
    },
    {
      "cell_type": "markdown",
      "source": [
        "**Task1**:\n",
        "\n",
        "Why do we make guesses? In other words, what is the benefit of trying to predict something we are uncertain about?"
      ],
      "metadata": {
        "id": "4HnMLojUPtOR"
      }
    },
    {
      "cell_type": "markdown",
      "source": [
        "We make guesses about the weather so we can know how we should prepare. We make guesses about poll results so we can assume what to expect. We make guesses and predictions so we can prepare ourselves for unknowns.\n",
        "\n",
        "When it comes to weather, this can help prepare us for future natural disasters and even things as simple as how to dress. Predictions can make our lives much more pleasant and allow us to expect the unexpected."
      ],
      "metadata": {
        "id": "mDaA1AeLU5dU"
      }
    },
    {
      "cell_type": "markdown",
      "source": [
        "**Task2**:\n",
        "\n",
        "Is is it possible to make a guess/prediction without making an assumption?\n",
        "\n",
        "If yes, then give an example of such a guess, and state whenever that guess would be useful or not.\n",
        "\n",
        "If no, then briefly justify why we need assumptions to make predictions."
      ],
      "metadata": {
        "id": "fMU4F4ZGQqb9"
      }
    },
    {
      "cell_type": "markdown",
      "source": [
        "No. In order to make a prediction you have to make an assumption because if you already knew your hypothesis (assumption) was correct, you wouldn't be making a prediction you would be stating a fact."
      ],
      "metadata": {
        "id": "JuBQVSQ0U-cD"
      }
    },
    {
      "cell_type": "markdown",
      "source": [
        "**Task3**:\n",
        "\n",
        "Should we use all the available information we have to make a guess/prediction? Justify your answer."
      ],
      "metadata": {
        "id": "8iIogaaJQEfl"
      }
    },
    {
      "cell_type": "markdown",
      "source": [
        "I would say that you should use all available *relavent* information to make a prediction. For example if you were prediction the free throw percentage of an NBA player, including his past stats would be relavent, but if you also know that he eats salmon for lunch half the days he makes a free throw, and salad all the rest of the days, that is likely not relavent information when predicting his future free throw percentage, nor would it be easy to include in a calculation."
      ],
      "metadata": {
        "id": "v8zljy-5QXSd"
      }
    },
    {
      "cell_type": "markdown",
      "source": [
        "**Task4**:\n",
        "\n",
        "What is a prior? How are priors related to\n",
        "- context?\n",
        "- assumptions?\n",
        "- predictions?"
      ],
      "metadata": {
        "id": "TYwtd8lPRFbj"
      }
    },
    {
      "cell_type": "markdown",
      "source": [
        "A prior is a form of a probabiliy as well.\n",
        "\n",
        "p(θ)\n",
        "\n",
        "A prior is your predicted probability based on previous knowledge or assumptions, before any new data is collected."
      ],
      "metadata": {
        "id": "d6vRRh3wVE5v"
      }
    },
    {
      "cell_type": "markdown",
      "source": [
        "**Task5**:\n",
        "\n",
        "What is a likelihood? How are likelihoods related to:\n",
        "\n",
        "- context?\n",
        "- assumptions?\n",
        "- predictions?"
      ],
      "metadata": {
        "id": "v6NnzoV_RWo6"
      }
    },
    {
      "cell_type": "markdown",
      "source": [
        "A likelihood is similar to a probability.\n",
        "\n",
        "p(y|θ)\n",
        "\n",
        "Likelihoods are proabilities of finding observed data under different scenarios. You could find the likelihood of drawing RWR from RRWW and RWR from RWWW. Those would be two different likelihoods."
      ],
      "metadata": {
        "id": "VK5s3vZpVGLc"
      }
    },
    {
      "cell_type": "markdown",
      "source": [
        "**Task6**:\n",
        "\n",
        "What is a posterior? How are posteriors related to:\n",
        "\n",
        "- context?\n",
        "- assumptions?\n",
        "- predictions?"
      ],
      "metadata": {
        "id": "eYSYtG_2Rowf"
      }
    },
    {
      "cell_type": "markdown",
      "source": [
        "A posterior is a probability that has been updated based on new evidence.\n",
        "\n",
        "Posteriors add context, and can assist in making more accurate assumptions and predictions.\n",
        "\n",
        "Posteriors can be found by multiplying the likelihood of the data by the prior probability."
      ],
      "metadata": {
        "id": "T04x1VteVHH1"
      }
    },
    {
      "cell_type": "markdown",
      "source": [
        "**Task7**:\n",
        "\n",
        "Why would anyone want to define a prior and a likelihood in order to make a prediction? In other words, what's the point of using a likelihood and a prior to form a posterior?"
      ],
      "metadata": {
        "id": "CMAm4LqBXYxG"
      }
    },
    {
      "cell_type": "markdown",
      "source": [
        "A prior is past evidence that can inform a prediction. Likelihoods are assumptions you make that can also inform a prediction. Priors provide evidentiary support for your prediction and likelihoods can be assumed and hypothesized and tested in your prediction.\n",
        "\n",
        "When you multiply the likelihood and prior together it's as if they're both happening at once. This forms the posterior which controls our guesses after we've found data and formed assumptions."
      ],
      "metadata": {
        "id": "rag62h9DVIDN"
      }
    },
    {
      "cell_type": "markdown",
      "source": [
        "## Bayes' Rule Math\n",
        "\n",
        "The following exrcises will be graded for completion, with no accuracy component. That said, correct answers below will replace mistakes in tasks 1-7.\n",
        "\n"
      ],
      "metadata": {
        "id": "BNrO2k34SGoF"
      }
    },
    {
      "cell_type": "markdown",
      "source": [
        "### Mathematical Framing\n",
        "\n",
        "In this series of exercises, we'll calculate a probability using the full version of Bayes' Rule.\n",
        "\n",
        "The version seen in the notes, $p(θ|y) ∝ p(y|θ)p(θ)$, ignores the normalizing constant found in the full equation: $p(θ|y) = \\frac{p(y|θ)p(θ)}{p(y)}$.\n",
        "\n",
        "As stated in the notes, in practical applications we don't need to worry too much about $p(y)$, AKA the marginal likelihood, AKA the prior predictive density, AKA the normalizing constant. And when we do, we'll approximate like we do everything else.\n",
        "\n",
        "The following exercises are closer to theoretical abstraction, rather than practicality.\n",
        "\n",
        "So why do them?\n",
        "\n",
        "These exercises will (hopefully) help you gain additional intuition for probability, and how it behaves.\n",
        "\n",
        "As you work through the exercises, consider $p(y)$, the  prior predictive density, and why using it to divide $p(y|θ)p(θ)$ gurantees that we get a probability.\n",
        "\n",
        "Additonaly, wonder about:\n",
        "- the likelihood $p(y|θ)$\n",
        "- the prior $p(θ)$,\n",
        "- why multiplying the likelihood and piror *almost* gives us the posterior $p(θ|y)$."
      ],
      "metadata": {
        "id": "w7KMRJa_TmdF"
      }
    },
    {
      "cell_type": "markdown",
      "source": [
        "###Problem Setting\n",
        "\n",
        "Imagine we have a bag of red and white marbles, identical in every other way. Each individual marble is either entirely white or entirely red.\n",
        "\n",
        "Let's assume there are 4 total marbles, that we can't see inside the bag, and when we grab a ball from the bag, we replace it and shake the bag to scramble the balls.\n",
        "\n",
        "Additionally:\n",
        "\n",
        "- we draw three balls in this order: red-white-red. Call these the data, $y$. Remember, we replaced the ball and shook the bag between each draw.\n",
        "- we are interested in finding the true proportion of red balls in the bag, called $θ$"
      ],
      "metadata": {
        "id": "ab7E9RIuj2OX"
      }
    },
    {
      "cell_type": "markdown",
      "source": [
        "**Task8**:\n",
        "\n",
        "Write out all the possible color compositions of the marbles in the bag, before we observed our data $y$ (which are the marbles drawn in the order of red-white-red).\n",
        "\n",
        "Let each of these possible color compositions be a possible $θ$, or true proportion of red marbles."
      ],
      "metadata": {
        "id": "AmHTGWQQHuAD"
      }
    },
    {
      "cell_type": "markdown",
      "source": [
        "1. red-white-red-white\n",
        "\n",
        "2. red-white-red-red\n",
        "\n",
        "3. white-red-white-white\n",
        "\n",
        "4. red-red-red-red\n",
        "\n",
        "5. white-white-white-white"
      ],
      "metadata": {
        "id": "EkPylHwCVK72"
      }
    },
    {
      "cell_type": "markdown",
      "source": [
        "**Task9**:\n",
        "\n",
        "Which color compositions are possible after seeing the data $y$?"
      ],
      "metadata": {
        "id": "-TELvcnVH8N2"
      }
    },
    {
      "cell_type": "markdown",
      "source": [
        "1. red-white-red-white\n",
        "\n",
        "2. red-white-red-red"
      ],
      "metadata": {
        "id": "7q6nUOdNMN9Z"
      }
    },
    {
      "cell_type": "markdown",
      "source": [
        "**Task10**:\n",
        "\n",
        "How many ways can you select red-white-red, assuming that there are 2 red marbles and 2 white marbles?"
      ],
      "metadata": {
        "id": "vIjecZm7OVcy"
      }
    },
    {
      "cell_type": "markdown",
      "source": [
        "1. redA-whiteA-redB\n",
        "\n",
        "2. redA-whiteB-redB\n",
        "\n",
        "3. redB-whiteA-redA\n",
        "\n",
        "4. redB-whiteB-redA\n",
        "\n",
        "5. redA-whiteA-redA\n",
        "\n",
        "6. redB-whiteB-redB\n",
        "\n",
        "7. redA-whiteB-redA\n",
        "\n",
        "8. redB-whiteA-redB\n",
        "\n",
        "\n",
        "A could be filled 2 diff ways, B could be filled 2 diff ways, C could be filled 2 different ways.\n",
        "\n",
        "2x2x2 is 8!"
      ],
      "metadata": {
        "id": "p2vDjMVIXtWR"
      }
    },
    {
      "cell_type": "markdown",
      "source": [
        "**Task11**:\n",
        "\n",
        "How many different ways can you select three balls so that order matters, given that there are 2 red marbles and 2 white marbles?"
      ],
      "metadata": {
        "id": "Bs7tx0pXhUZy"
      }
    },
    {
      "cell_type": "markdown",
      "source": [
        "4x4x4\n",
        "\n",
        "=64"
      ],
      "metadata": {
        "id": "69ScN4NYh6ks"
      }
    },
    {
      "cell_type": "markdown",
      "source": [
        "**Task12**:\n",
        "\n",
        "What's the probablity you select red-white-red, given that there are 2 red marbles and 2 white marbles?\n",
        "\n",
        "Stated differently,\n",
        "\n",
        "Find the likelihood $p(y|θ)$, where $θ=RRWW$"
      ],
      "metadata": {
        "id": "k87Z69qUg9KV"
      }
    },
    {
      "cell_type": "markdown",
      "source": [
        "Probability of getting red-white-red when there are 2 red and 2 white.\n",
        "\n",
        "The probability of getting RWR at all is 8 and the probability of selecting 3 marbles in a different order than the others.\n",
        "\n",
        "8/64 --> 1/8"
      ],
      "metadata": {
        "id": "v5bdqu1nri3Y"
      }
    },
    {
      "cell_type": "markdown",
      "source": [
        "**Task13**\n",
        "\n",
        "If--before seeing the data--all color compostions are equally likely,\n",
        "\n",
        "then what is $p(\\theta)$, if $\\theta = RRWW$?"
      ],
      "metadata": {
        "id": "_rZSSoR8NbEY"
      }
    },
    {
      "cell_type": "markdown",
      "source": [
        "1/5\n",
        "\n",
        "WWWW\n",
        "RWWW\n",
        "RRWW\n",
        "RRRW\n",
        "RRRR\n",
        "\n",
        "are all equally likely so the probability of selecting RRWW is 1/5."
      ],
      "metadata": {
        "id": "N3PVjOk5wDZT"
      }
    },
    {
      "cell_type": "markdown",
      "source": [
        "**Task14**:\n",
        "\n",
        "Find:\n",
        "\n",
        "- $p(y|WWWW)$\n",
        "- $p(y|RWWW)$\n",
        "- $p(y|RRWW)$\n",
        "- $p(y|RRRW)$\n",
        "- $p(y|RRRR)$"
      ],
      "metadata": {
        "id": "j6e9WP49sZJh"
      }
    },
    {
      "cell_type": "markdown",
      "source": [
        "1. 0\n",
        "\n",
        "2. 3/64 (There is 1 red in the data set and two reds you are looking for but three whites and 1 white you are looking for so there are 3 possibilities. There are 64 ways you can draw 3 marbles.)\n",
        "\n",
        "3. 1/8 (There are 8 ways to draw RWR from RRWW and there are 64 ways to draw 3 marbles.)\n",
        "\n",
        "4. 9/64 (There are three reds in the in theta and two reds you are looking for and 3^2 is 9. There are 9 ways to select RWR from RRRW nd there are 64 ways to select 3 marbles)\n",
        "\n",
        "5. 0"
      ],
      "metadata": {
        "id": "NbSC4dj_tf4Y"
      }
    },
    {
      "cell_type": "markdown",
      "source": [
        "**Task15**\n",
        "\n",
        "Assume that each color compostions is equally likely before seeing the data.\n",
        "\n",
        "Find:\n",
        "\n",
        "- $p(y|WWWW)p(WWWW)$\n",
        "- $p(y|RWWW)p(RWWW)$\n",
        "- $p(y|RRWW)p(RRWW)$\n",
        "- $p(y|RRRW)p(RRRW)$\n",
        "- $p(y|RRRR)p(RRRR)$\n"
      ],
      "metadata": {
        "id": "W6f3Ll2oWmMJ"
      }
    },
    {
      "cell_type": "markdown",
      "source": [
        "You're multiplying the probability of there being WWWW, RWWW, etc when all 5 combos are equally likely (1/5) by the probability of drawing RWR from those combos (Task 14).\n",
        "\n",
        "1. 0\n",
        "\n",
        "2. (3/64)*(1/5)= 3/320\n",
        "\n",
        "3. (1/8)*(1/5)= 1/40\n",
        "\n",
        "4. (9/64)*(1/5)= 9/320\n",
        "\n",
        "5. 0\n"
      ],
      "metadata": {
        "id": "t_TZsERtXMQu"
      }
    },
    {
      "cell_type": "markdown",
      "source": [
        "**Task16**:\n",
        "\n",
        "Find the probablity of getting red-white-red, $p(y)$, given each possible color combination is equally likely."
      ],
      "metadata": {
        "id": "qxSVk_Sjv8Gk"
      }
    },
    {
      "cell_type": "markdown",
      "source": [
        "Find the probability of getting RWR at all...\n",
        "\n",
        "3/320 + 1/40(8/320) + 9/320 =\n",
        "\n",
        "20/320 =\n",
        "\n",
        "1/16"
      ],
      "metadata": {
        "id": "641kAEFkOK8b"
      }
    },
    {
      "cell_type": "markdown",
      "source": [
        "**Task17**:\n",
        "\n",
        "After observing a draw of red-white-red, find the probability that there are two red marbles and two white marbles in the bag. Assume that all color compositions were equally likely before the draw.\n",
        "\n",
        "In other words, find $p(θ|y)$, where $θ=RRWW$."
      ],
      "metadata": {
        "id": "CYoWtEwxyNB-"
      }
    },
    {
      "cell_type": "markdown",
      "source": [
        "There are 8 ways to get RWR in RRWW and there are 20 ways to get RWR at all...\n",
        "\n",
        "8/20 =\n",
        "\n",
        "2/5"
      ],
      "metadata": {
        "id": "WxX-o3Uuy9eR"
      }
    },
    {
      "cell_type": "markdown",
      "source": [
        "**Task18**:\n",
        "\n",
        "Story time: The marble factory produces bags of four marbles. They want to make red marbles rare, so that people will get excited about them.  Therefore, for each 1 bag containing four red, they made 2 that contain three red, 3 that contain two red, 4 that contain one red, and 5 that contain zero red.\n",
        "\n",
        "With this new prior information, find $p(θ|y)$, where $θ=RRWW$.\n",
        "\n",
        "**NOTE**: You MUST calculate  a new marginal likelihood $p(y)$ with the new prior information."
      ],
      "metadata": {
        "id": "VgMdbaKW1o39"
      }
    },
    {
      "cell_type": "markdown",
      "source": [
        "1. RRRR = 0\n",
        "2. RRRW*2 = 18\n",
        "3. RRWW*3 = 24\n",
        "4. RWWW*4 = 12\n",
        "5. WWWW*5 = 0\n",
        "\n",
        "The probability of the bag being RRWW given that you already know you'll draw RWR.\n",
        "\n",
        "24/54 =\n",
        "4/9"
      ],
      "metadata": {
        "id": "UMMrUAIs3Dsi"
      }
    },
    {
      "cell_type": "markdown",
      "source": [
        "**Task19**:\n",
        "\n",
        "Write down similarities and differences between this marble example, and the VIctor Wembanyama FT example."
      ],
      "metadata": {
        "id": "ABn_s24K4K0H"
      }
    },
    {
      "cell_type": "markdown",
      "source": [
        "Similarities:\n",
        "\n",
        "In the Victor Wembanyama FT example, we're looking for the probability of him making a FT rather than missing it. In the case of the marbles, drawing RWR is a make and every other possibility is a miss.\n",
        "\n",
        "When we become aware of how Wembanyama has been performing so far in the NBA, it is similar to when we recieve new information/conditions about the marble bags. This new information adds restrictions to our possibilities.\n",
        "\n",
        "Differences:\n",
        "\n",
        "In the marble example, we are looking for one thing most of the time, the probability (lieklihood) of drawing RWR when we have different conditions. Whereas with Wenbanyama we have to use the mode to find the expected FT% rather than the most likely.\n",
        "\n",
        "We have restrictions in the marble problem but we have additional data in the Wenbanyama problem.\n",
        "\n",
        "One uses marbles, the other is talking about FT in basketball."
      ],
      "metadata": {
        "id": "CAmT3Bd34fhc"
      }
    }
  ]
}