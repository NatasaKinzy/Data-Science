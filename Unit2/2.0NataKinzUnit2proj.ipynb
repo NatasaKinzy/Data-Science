{
  "nbformat": 4,
  "nbformat_minor": 0,
  "metadata": {
    "colab": {
      "provenance": [],
      "name": "2.0NataKinzUnit2proj.ipynb",
      "include_colab_link": true
    },
    "kernelspec": {
      "name": "python3",
      "display_name": "Python 3"
    },
    "language_info": {
      "name": "python"
    }
  },
  "cells": [
    {
      "cell_type": "markdown",
      "metadata": {
        "id": "view-in-github",
        "colab_type": "text"
      },
      "source": [
        "<a href=\"https://colab.research.google.com/github/NatasaKinzy/Data-Science/blob/main/Unit2/2.0NataKinzUnit2proj.ipynb\" target=\"_parent\"><img src=\"https://colab.research.google.com/assets/colab-badge.svg\" alt=\"Open In Colab\"/></a>"
      ]
    },
    {
      "cell_type": "markdown",
      "source": [
        "#**Unit 2 Project**"
      ],
      "metadata": {
        "id": "0GANUQSIhV2t"
      }
    },
    {
      "cell_type": "markdown",
      "source": [
        "First I'm going to make all necessary instalations:"
      ],
      "metadata": {
        "id": "tpd3m3mO8LA3"
      }
    },
    {
      "cell_type": "code",
      "source": [
        "!pip install preliz"
      ],
      "metadata": {
        "id": "JzrBLsWe8SKm"
      },
      "execution_count": null,
      "outputs": []
    },
    {
      "cell_type": "code",
      "source": [
        "#We'll also need to re-import those libraries\n",
        "\n",
        "import preliz as pz"
      ],
      "metadata": {
        "id": "okRITyI08U_m"
      },
      "execution_count": null,
      "outputs": []
    },
    {
      "cell_type": "code",
      "source": [
        "#These libraries don't need to be reinstalled each time, but they will need to be\n",
        "#re-imported each time\n",
        "\n",
        "import numpy as np\n",
        "import arviz as az\n",
        "import pymc as pm"
      ],
      "metadata": {
        "id": "2lMhoGPU8VOO"
      },
      "execution_count": null,
      "outputs": []
    },
    {
      "cell_type": "markdown",
      "source": [
        "# **Context**"
      ],
      "metadata": {
        "id": "4HnMLojUPtOR"
      }
    },
    {
      "cell_type": "markdown",
      "source": [
        "Are you a Marvel fan? Have you ever wondered what in the world they're doing and whether they'll make ANY profit on their new movie. Well, suprisingly to me, they tend to make at least a couple hundred million in net gross income every time.\n",
        "\n",
        "My question is... **what is the probability that the next Marvel movie will break $800 million gross?**\n",
        "\n",
        "Marvel Studios is a globally famous studio that produces movies based on/inspired by many of Stan Lee's comic books. Their movies are about Superheros saving the world, but that's pretty much the biggest commonality. They have a fairly large variety in where the superheros are from, how they gained the powers, who they are, their internal struggles, and who they need to fight. Given that there is so much variety in each of their stories, I assume that their income from each of their movies would be fairly different. However, they must make at least a couple hundred million from each in order to fund their next projects.\n",
        "\n"
      ],
      "metadata": {
        "id": "mDaA1AeLU5dU"
      }
    },
    {
      "cell_type": "markdown",
      "source": [
        "# **Prior**\n",
        "\n",
        "\n",
        "While I've already accidentally looked at the worldwide gross income of a few of the Marvel movies, I'm relatively uninformed about this. Given that Marvel movies keep fluctuating in quality, but also knowing the next Marvel movie will be Spiderman: Brand New Day, I think there is a 0.4 probability that it will break $800 million gross, and a 0.6 probability it will not.\n",
        "\n",
        "\n"
      ],
      "metadata": {
        "id": "mxNRoOtB8oyf"
      }
    },
    {
      "cell_type": "code",
      "source": [
        "pz.Beta(alpha=1.6,beta=2.4).plot_pdf()"
      ],
      "metadata": {
        "colab": {
          "base_uri": "https://localhost:8080/",
          "height": 447
        },
        "id": "2VK_8Xm8BohO",
        "outputId": "8e99d20e-ed80-4a64-e496-59cec5ab4c4d"
      },
      "execution_count": null,
      "outputs": [
        {
          "output_type": "execute_result",
          "data": {
            "text/plain": [
              "<Axes: >"
            ]
          },
          "metadata": {},
          "execution_count": 13
        },
        {
          "output_type": "display_data",
          "data": {
            "text/plain": [
              "<Figure size 640x480 with 1 Axes>"
            ],
            "image/png": "[encoded data removed]"
          },
          "metadata": {}
        }
      ]
    },
    {
      "cell_type": "markdown",
      "source": [
        "# **Likelihood**\n",
        "\n",
        "Marvel Studios has released 37 movies; this list says who has and who has not broken my threshold of $800 million gross.\n",
        "\n",
        "1. Captain America: The First Avenger: no\n",
        "\n",
        "2. The Fantastic Four: First Steps: no\n",
        "\n",
        "3. Captain Marvel: yes\n",
        "\n",
        "4. Iron Man: no\n",
        "\n",
        "5. Iron Man 2: no\n",
        "\n",
        "6. The Incredible Hulk: no\n",
        "\n",
        "7. Thor: no\n",
        "\n",
        "8. The Avengers: yes\n",
        "\n",
        "9. Thor: The Dark World: no\n",
        "\n",
        "10. Iron Man 3: yes\n",
        "\n",
        "11. Captain America: The Winter Soldier: no\n",
        "\n",
        "12. Guardians of the Galaxy: no\n",
        "\n",
        "13. Guardians of the Galaxy Vol. 2: yes\n",
        "\n",
        "14. Avengers: Age of Ultron: yes\n",
        "\n",
        "15. Ant-Man: no\n",
        "\n",
        "16. Captain America: Civil War: yes\n",
        "\n",
        "17. Black Widow: no\n",
        "\n",
        "18. Spider-Man: Homecoming: yes\n",
        "\n",
        "19. Black Panther: yes\n",
        "\n",
        "20. Doctor Strange: no\n",
        "\n",
        "21. Thor: Ragnarok: yes\n",
        "\n",
        "22. Ant-Man and the Wasp: no\n",
        "\n",
        "23. Avengers: Infinity War: yes\n",
        "\n",
        "24. Avengers: Endgame: yes\n",
        "\n",
        "25. Spider-Man: Far From Home: yes\n",
        "\n",
        "26. Shang-Chi and the Legend of the Ten Rings: no\n",
        "\n",
        "27. Eternals: no\n",
        "\n",
        "28. Spider-Man: No Way Home: yes\n",
        "\n",
        "29. Doctor Strange in the Multiverse of Madness: yes\n",
        "\n",
        "30. Thor: Love and Thunder: no\n",
        "\n",
        "31. Black Panther: Wakanda Forever: yes\n",
        "\n",
        "32. Ant-Man and the Wasp: Quantumania: no\n",
        "\n",
        "33. Guardians of the Galaxy Vol. 3: yes\n",
        "\n",
        "34. The Marvels: no\n",
        "\n",
        "35. Deadpool & Wolverine: yes\n",
        "\n",
        "36. Captain America: Brave New World: no\n",
        "\n",
        "37. Thunderbolts: no\n"
      ],
      "metadata": {
        "id": "NEWQr1o88zKW"
      }
    },
    {
      "cell_type": "code",
      "source": [
        "#Wemby's FTs in the 2023/2024 season, makes then misses\n",
        "FT_data_2324 = np.repeat([1,0], repeats = [17,20])"
      ],
      "metadata": {
        "id": "uk0nAUKf9jWF"
      },
      "execution_count": null,
      "outputs": []
    },
    {
      "cell_type": "code",
      "source": [
        "with pm.Model() as wmby_FT_2324_model:\n",
        "  #same prior from before based on Euroleague data\n",
        "  θ = pm.Beta('θ' , alpha = 1.6 , beta = 2.4)\n",
        "\n",
        "  #same likelihood, with our stand in for the binomial distribution\n",
        "  #but with the updated data\n",
        "  y = pm.Bernoulli('y', p = θ, observed = FT_data_2324)\n",
        "\n",
        "  #sample from the posterior, 2000 for a more prcise picture later\n",
        "  idata_FT_2324 = pm.sample(2000)"
      ],
      "metadata": {
        "id": "xsnvZ0Xr9jh2"
      },
      "execution_count": null,
      "outputs": []
    },
    {
      "cell_type": "code",
      "source": [
        "#vizualize the 2000 samples from the pymc model of the posterior\n",
        "az.plot_posterior(idata_FT_2324)"
      ],
      "metadata": {
        "colab": {
          "base_uri": "https://localhost:8080/",
          "height": 475
        },
        "id": "LDw5ckCb9jzu",
        "outputId": "cbb41543-64a8-43fe-f912-28d9b8de26ce"
      },
      "execution_count": null,
      "outputs": [
        {
          "output_type": "execute_result",
          "data": {
            "text/plain": [
              "<Axes: title={'center': 'θ'}>"
            ]
          },
          "metadata": {},
          "execution_count": 17
        },
        {
          "output_type": "display_data",
          "data": {
            "text/plain": [
              "<Figure size 640x480 with 1 Axes>"
            ],
            "image/png": "[encoded data removed]"
          },
          "metadata": {}
        }
      ]
    },
    {
      "cell_type": "markdown",
      "source": [
        "# **Analysis**\n",
        "\n",
        "My prior was 0.4, so I essentially guessed that there would be a 40% chance that the next Marvel movie would break $800 million gross. The likelihood turned out to be 46%. I would consider this a fairly accurate prior to my likelihood, given that my guess was based on very limited knowledge about the past gross income of Marvel movies. My guess was mostly based on the fact that I think about half of the Marvel movies are particularly amazing, and I know that they're more recent movies tend to be very HIT or MISS. But additionally, I also was slightly biased by the fact that I had already begun researching the gross income of Marvel movies and had seen the net gross of 4 before I made my guess.\n",
        "\n",
        "I don't believe my likelihood is entirely accurate. My data came from a fairly small set, only 37 data points, and that can lead to misconstruing the actual outcome. Additionally, my likelihood doesn't take into account the fact that every single Spiderman Marvel movie has broken the $800 million gross benchmark, and the next Marvel movie will be another Spiderman.\n",
        "\n",
        "I believe that given that this data analysis method is only capable of giving yeses and nos, and can't take into account the nuances of real life, my likelihood should probably be closer to 90%."
      ],
      "metadata": {
        "id": "AnJ70hYl-S-2"
      }
    },
    {
      "cell_type": "markdown",
      "source": [
        "# **Sources**\n",
        "\n",
        "Movies List: https://www.space.com/marvel-movies-in-order\n",
        "\n",
        "Gross Income: https://www.the-numbers.com/movies/franchise/Marvel-Cinematic-Universe#tab=summary\n",
        "\n",
        "Next Marvel movie: https://editorial.rottentomatoes.com/article/full-list-of-all-upcoming-marvel-movies/\n"
      ],
      "metadata": {
        "id": "yq3SpjZR9OFf"
      }
    }
  ]
}